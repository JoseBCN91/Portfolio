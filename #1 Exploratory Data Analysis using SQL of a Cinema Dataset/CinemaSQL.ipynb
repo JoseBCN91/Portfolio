{
 "cells": [
  {
   "cell_type": "code",
   "execution_count": 5,
   "id": "bd808fe0",
   "metadata": {
    "collapsed": true
   },
   "outputs": [
    {
     "name": "stdout",
     "output_type": "stream",
     "text": [
      "The sql extension is already loaded. To reload it, use:\n",
      "  %reload_ext sql\n"
     ]
    }
   ],
   "source": [
    " %load_ext sql\n"
   ]
  },
  {
   "cell_type": "markdown",
   "id": "88275bf3",
   "metadata": {},
   "source": [
    "# Introduction\n",
    "\n",
    "Movies are one of the most widely databases used for exploratory analysis as it provides plenty of paths for its exploration. \n",
    "Five SQL tables have been generated, called: **tb_movie, tb_genre, tb_person, tb_role** and **tb_movie_person**. These five tables are intercconected with each other *via* a key. \n"
   ]
  },
  {
   "cell_type": "markdown",
   "id": "f5320462",
   "metadata": {},
   "source": [
    "## Exploratory analysis of the data\n",
    "\n",
    "The database is made of differents data, with different columns where data is stored."
   ]
  },
  {
   "cell_type": "markdown",
   "id": "acd68a90",
   "metadata": {},
   "source": [
    "### **tb_movie**"
   ]
  },
  {
   "cell_type": "code",
   "execution_count": 35,
   "id": "dafca0dc",
   "metadata": {},
   "outputs": [
    {
     "name": "stdout",
     "output_type": "stream",
     "text": [
      " * sqlite://\n",
      "Done.\n"
     ]
    },
    {
     "data": {
      "text/html": [
       "<table>\n",
       "    <tr>\n",
       "        <th>movie_id</th>\n",
       "        <th>movie_title</th>\n",
       "        <th>movie_date</th>\n",
       "        <th>movie_format</th>\n",
       "        <th>movie_genre_id</th>\n",
       "        <th>created_by_user</th>\n",
       "        <th>created_date</th>\n",
       "        <th>updated_date</th>\n",
       "    </tr>\n",
       "    <tr>\n",
       "        <td>1</td>\n",
       "        <td>Apocalypse Now</td>\n",
       "        <td>1979-05-10</td>\n",
       "        <td>Film</td>\n",
       "        <td>11</td>\n",
       "        <td>OS_SGAD</td>\n",
       "        <td>None</td>\n",
       "        <td>None</td>\n",
       "    </tr>\n",
       "    <tr>\n",
       "        <td>2</td>\n",
       "        <td>Star Wars:Episode IV - A New Hope</td>\n",
       "        <td>1977-05-25</td>\n",
       "        <td>Film</td>\n",
       "        <td>2</td>\n",
       "        <td>OS_SGAD</td>\n",
       "        <td>None</td>\n",
       "        <td>None</td>\n",
       "    </tr>\n",
       "    <tr>\n",
       "        <td>3</td>\n",
       "        <td>Indiana Jones and the Temple of Doom</td>\n",
       "        <td>1984-05-08</td>\n",
       "        <td>Film</td>\n",
       "        <td>1</td>\n",
       "        <td>OS_SGAD</td>\n",
       "        <td>None</td>\n",
       "        <td>None</td>\n",
       "    </tr>\n",
       "    <tr>\n",
       "        <td>4</td>\n",
       "        <td>The Terminal</td>\n",
       "        <td>2004-06-18</td>\n",
       "        <td>Digital</td>\n",
       "        <td>3</td>\n",
       "        <td>OS_SGAD</td>\n",
       "        <td>None</td>\n",
       "        <td>None</td>\n",
       "    </tr>\n",
       "    <tr>\n",
       "        <td>5</td>\n",
       "        <td>Jaws</td>\n",
       "        <td>1975-01-01</td>\n",
       "        <td>Film</td>\n",
       "        <td>10</td>\n",
       "        <td>OS_SGAD</td>\n",
       "        <td>None</td>\n",
       "        <td>None</td>\n",
       "    </tr>\n",
       "    <tr>\n",
       "        <td>6</td>\n",
       "        <td>ET The Extraterrestrial</td>\n",
       "        <td>1982-07-25</td>\n",
       "        <td>Film</td>\n",
       "        <td>5</td>\n",
       "        <td>OS_SGAD</td>\n",
       "        <td>None</td>\n",
       "        <td>None</td>\n",
       "    </tr>\n",
       "    <tr>\n",
       "        <td>7</td>\n",
       "        <td>Psycho</td>\n",
       "        <td>1960-05-06</td>\n",
       "        <td>Film</td>\n",
       "        <td>9</td>\n",
       "        <td>OS_SGAD</td>\n",
       "        <td>None</td>\n",
       "        <td>None</td>\n",
       "    </tr>\n",
       "    <tr>\n",
       "        <td>8</td>\n",
       "        <td>Ocho Apellidos Vascos</td>\n",
       "        <td>2014-03-14</td>\n",
       "        <td>Digital</td>\n",
       "        <td>3</td>\n",
       "        <td>OS_SGAD</td>\n",
       "        <td>None</td>\n",
       "        <td>None</td>\n",
       "    </tr>\n",
       "    <tr>\n",
       "        <td>9</td>\n",
       "        <td>Ocho Apellidos Catalanes</td>\n",
       "        <td>2016-06-09</td>\n",
       "        <td>Digital</td>\n",
       "        <td>8</td>\n",
       "        <td>OS_SGAD</td>\n",
       "        <td>None</td>\n",
       "        <td>None</td>\n",
       "    </tr>\n",
       "    <tr>\n",
       "        <td>10</td>\n",
       "        <td>El otro lado de la cama</td>\n",
       "        <td>2002-09-04</td>\n",
       "        <td>Digital</td>\n",
       "        <td>8</td>\n",
       "        <td>OS_SGAD</td>\n",
       "        <td>None</td>\n",
       "        <td>None</td>\n",
       "    </tr>\n",
       "    <tr>\n",
       "        <td>11</td>\n",
       "        <td>La Gran Familia Española</td>\n",
       "        <td>2012-10-15</td>\n",
       "        <td>Digital</td>\n",
       "        <td>3</td>\n",
       "        <td>OS_SGAD</td>\n",
       "        <td>None</td>\n",
       "        <td>None</td>\n",
       "    </tr>\n",
       "    <tr>\n",
       "        <td>12</td>\n",
       "        <td>El dia de la bestia</td>\n",
       "        <td>1994-12-25</td>\n",
       "        <td>Film</td>\n",
       "        <td>1</td>\n",
       "        <td>OS_SGAD</td>\n",
       "        <td>None</td>\n",
       "        <td>None</td>\n",
       "    </tr>\n",
       "    <tr>\n",
       "        <td>13</td>\n",
       "        <td>Braveheart</td>\n",
       "        <td>1995-08-08</td>\n",
       "        <td>Film</td>\n",
       "        <td>4</td>\n",
       "        <td>OS_SGAD</td>\n",
       "        <td>None</td>\n",
       "        <td>None</td>\n",
       "    </tr>\n",
       "    <tr>\n",
       "        <td>14</td>\n",
       "        <td>The Shawshank Redemption</td>\n",
       "        <td>1992-01-07</td>\n",
       "        <td>Film</td>\n",
       "        <td>4</td>\n",
       "        <td>OS_SGAD</td>\n",
       "        <td>None</td>\n",
       "        <td>None</td>\n",
       "    </tr>\n",
       "    <tr>\n",
       "        <td>15</td>\n",
       "        <td>Las brujas de Zugarramurdi</td>\n",
       "        <td>2009-10-07</td>\n",
       "        <td>Digital</td>\n",
       "        <td>9</td>\n",
       "        <td>OS_SGAD</td>\n",
       "        <td>None</td>\n",
       "        <td>None</td>\n",
       "    </tr>\n",
       "    <tr>\n",
       "        <td>16</td>\n",
       "        <td>Blade Runner</td>\n",
       "        <td>1982-12-25</td>\n",
       "        <td>Digital</td>\n",
       "        <td>2</td>\n",
       "        <td>OS_SGAD</td>\n",
       "        <td>None</td>\n",
       "        <td>None</td>\n",
       "    </tr>\n",
       "</table>"
      ],
      "text/plain": [
       "[(1, 'Apocalypse Now', '1979-05-10', 'Film', 11, 'OS_SGAD', None, None),\n",
       " (2, 'Star Wars:Episode IV - A New Hope', '1977-05-25', 'Film', 2, 'OS_SGAD', None, None),\n",
       " (3, 'Indiana Jones and the Temple of Doom', '1984-05-08', 'Film', 1, 'OS_SGAD', None, None),\n",
       " (4, 'The Terminal', '2004-06-18', 'Digital', 3, 'OS_SGAD', None, None),\n",
       " (5, 'Jaws', '1975-01-01', 'Film', 10, 'OS_SGAD', None, None),\n",
       " (6, 'ET The Extraterrestrial', '1982-07-25', 'Film', 5, 'OS_SGAD', None, None),\n",
       " (7, 'Psycho', '1960-05-06', 'Film', 9, 'OS_SGAD', None, None),\n",
       " (8, 'Ocho Apellidos Vascos', '2014-03-14', 'Digital', 3, 'OS_SGAD', None, None),\n",
       " (9, 'Ocho Apellidos Catalanes', '2016-06-09', 'Digital', 8, 'OS_SGAD', None, None),\n",
       " (10, 'El otro lado de la cama', '2002-09-04', 'Digital', 8, 'OS_SGAD', None, None),\n",
       " (11, 'La Gran Familia Española', '2012-10-15', 'Digital', 3, 'OS_SGAD', None, None),\n",
       " (12, 'El dia de la bestia', '1994-12-25', 'Film', 1, 'OS_SGAD', None, None),\n",
       " (13, 'Braveheart', '1995-08-08', 'Film', 4, 'OS_SGAD', None, None),\n",
       " (14, 'The Shawshank Redemption', '1992-01-07', 'Film', 4, 'OS_SGAD', None, None),\n",
       " (15, 'Las brujas de Zugarramurdi', '2009-10-07', 'Digital', 9, 'OS_SGAD', None, None),\n",
       " (16, 'Blade Runner', '1982-12-25', 'Digital', 2, 'OS_SGAD', None, None)]"
      ]
     },
     "execution_count": 35,
     "metadata": {},
     "output_type": "execute_result"
    }
   ],
   "source": [
    "%%sql\n",
    "\n",
    "SELECT * FROM tb_movie"
   ]
  },
  {
   "cell_type": "markdown",
   "id": "18d7828f",
   "metadata": {},
   "source": [
    "The table consists of 16 rows i.e., 16 movies, and 8 columns with its attributes being:\n",
    "1. *movie_id*: ID of the movie, from 1 to 16, which is linked to the **tb_movie_person** table.  TYPE: INTEGER NOT NULL. CONSTRAINT: PRIMARY KEY\n",
    "2. *movie_title*: Title of the movie.  *Note that the titles are in Spanish*. \n",
    "    TYPE: CHARACTER VARYING(100) NOT NULL.  \n",
    "3. *movie_date* : Premiere date. TYPE: DATE.\n",
    "4. *movie_format* : Film or Digital format. TYPE: CHARACTER VARYING(50). \n",
    "5. *movie_genre_id*: the id of the movie genre.\n",
    "    TYPE: INTEGER. CONSTRAINT: FOREIGN KEY. REFERENCES: tb_genre (genre_id).\n",
    "6. *created_by_user*: Who created the data. TYPE: CHARACTER VARYING(10) NOT NULL DEFAULT 'OS_SGAD'. \n",
    "7. *created_date*: When the user created the data. TYPE: DATE.\n",
    "8. *data_update*: Whether the data has been updated or not. TYPE: DATE."
   ]
  },
  {
   "cell_type": "markdown",
   "id": "e1299eb8",
   "metadata": {},
   "source": [
    "### **tb_genre**"
   ]
  },
  {
   "cell_type": "code",
   "execution_count": 36,
   "id": "895d96b3",
   "metadata": {},
   "outputs": [
    {
     "name": "stdout",
     "output_type": "stream",
     "text": [
      " * sqlite://\n",
      "Done.\n"
     ]
    },
    {
     "data": {
      "text/html": [
       "<table>\n",
       "    <tr>\n",
       "        <th>genre_id</th>\n",
       "        <th>genre_name</th>\n",
       "        <th>created_by_user</th>\n",
       "        <th>created_date</th>\n",
       "        <th>updated_date</th>\n",
       "    </tr>\n",
       "    <tr>\n",
       "        <td>1</td>\n",
       "        <td>Acción</td>\n",
       "        <td>OS_SGAD</td>\n",
       "        <td>None</td>\n",
       "        <td>None</td>\n",
       "    </tr>\n",
       "    <tr>\n",
       "        <td>2</td>\n",
       "        <td>Ciencia Ficción</td>\n",
       "        <td>OS_SGAD</td>\n",
       "        <td>None</td>\n",
       "        <td>None</td>\n",
       "    </tr>\n",
       "    <tr>\n",
       "        <td>3</td>\n",
       "        <td>Comedia</td>\n",
       "        <td>OS_SGAD</td>\n",
       "        <td>None</td>\n",
       "        <td>None</td>\n",
       "    </tr>\n",
       "    <tr>\n",
       "        <td>4</td>\n",
       "        <td>Drama</td>\n",
       "        <td>OS_SGAD</td>\n",
       "        <td>None</td>\n",
       "        <td>None</td>\n",
       "    </tr>\n",
       "    <tr>\n",
       "        <td>5</td>\n",
       "        <td>Fantasía</td>\n",
       "        <td>apermag</td>\n",
       "        <td>None</td>\n",
       "        <td>None</td>\n",
       "    </tr>\n",
       "    <tr>\n",
       "        <td>6</td>\n",
       "        <td>Melodrama</td>\n",
       "        <td>apermag</td>\n",
       "        <td>2018-09-01</td>\n",
       "        <td>2018-09-27</td>\n",
       "    </tr>\n",
       "    <tr>\n",
       "        <td>7</td>\n",
       "        <td>Musical</td>\n",
       "        <td>OS_SGAD</td>\n",
       "        <td>None</td>\n",
       "        <td>None</td>\n",
       "    </tr>\n",
       "    <tr>\n",
       "        <td>8</td>\n",
       "        <td>Romance</td>\n",
       "        <td>OS_SGAD</td>\n",
       "        <td>None</td>\n",
       "        <td>None</td>\n",
       "    </tr>\n",
       "    <tr>\n",
       "        <td>9</td>\n",
       "        <td>Suspense</td>\n",
       "        <td>OS_SGAD</td>\n",
       "        <td>None</td>\n",
       "        <td>None</td>\n",
       "    </tr>\n",
       "    <tr>\n",
       "        <td>10</td>\n",
       "        <td>Terror</td>\n",
       "        <td>OS_SGAD</td>\n",
       "        <td>None</td>\n",
       "        <td>None</td>\n",
       "    </tr>\n",
       "    <tr>\n",
       "        <td>11</td>\n",
       "        <td>Bélico</td>\n",
       "        <td>OS_SGAD</td>\n",
       "        <td>None</td>\n",
       "        <td>None</td>\n",
       "    </tr>\n",
       "</table>"
      ],
      "text/plain": [
       "[(1, 'Acción', 'OS_SGAD', None, None),\n",
       " (2, 'Ciencia Ficción', 'OS_SGAD', None, None),\n",
       " (3, 'Comedia', 'OS_SGAD', None, None),\n",
       " (4, 'Drama', 'OS_SGAD', None, None),\n",
       " (5, 'Fantasía', 'apermag', None, None),\n",
       " (6, 'Melodrama', 'apermag', '2018-09-01', '2018-09-27'),\n",
       " (7, 'Musical', 'OS_SGAD', None, None),\n",
       " (8, 'Romance', 'OS_SGAD', None, None),\n",
       " (9, 'Suspense', 'OS_SGAD', None, None),\n",
       " (10, 'Terror', 'OS_SGAD', None, None),\n",
       " (11, 'Bélico', 'OS_SGAD', None, None)]"
      ]
     },
     "execution_count": 36,
     "metadata": {},
     "output_type": "execute_result"
    }
   ],
   "source": [
    "%%sql\n",
    "\n",
    "SELECT * FROM tb_genre"
   ]
  },
  {
   "cell_type": "markdown",
   "id": "d2803d7a",
   "metadata": {},
   "source": [
    "The table consists of 11 rows i.e., 11 different movies genres, and 5 columns with its attributes being: \n",
    "1. *genre_id*: The id of the genre, from 1 to 11, which is linked to the **tb_movie** table. TYPE: INTEGER NOT NULL. CONSTRAINT: PRIMARY KEY\n",
    "2. *genre_name*: The name of the genre, such as Acción, Romance or Terror. *Note that the names are in Spanish*. TYPE: CHARACTER VARYING(40) NOT NULL.\n",
    "3. *created_by_user*: Who created the data. TYPE: CHARACTER VARYING(10) NOT NULL DEFAULT 'OS_SGAD'.\n",
    "4. *created_date*: When the user created the data. TYPE: DATE.\n",
    "5. *data_update*: Whether the data has been updated or not. TYPE: DATE."
   ]
  },
  {
   "cell_type": "markdown",
   "id": "a806d694",
   "metadata": {},
   "source": [
    "### **tb_person**"
   ]
  },
  {
   "cell_type": "code",
   "execution_count": 97,
   "id": "9ba4d3f6",
   "metadata": {},
   "outputs": [
    {
     "name": "stdout",
     "output_type": "stream",
     "text": [
      " * sqlite://\n",
      "Done.\n"
     ]
    },
    {
     "data": {
      "text/html": [
       "<table>\n",
       "    <tr>\n",
       "        <th>person_id</th>\n",
       "        <th>person_name</th>\n",
       "        <th>person_country</th>\n",
       "        <th>person_dob</th>\n",
       "        <th>person_dod</th>\n",
       "        <th>person_parent_id</th>\n",
       "        <th>created_by_user</th>\n",
       "        <th>created_date</th>\n",
       "        <th>updated_date</th>\n",
       "    </tr>\n",
       "    <tr>\n",
       "        <td>1</td>\n",
       "        <td>Francis Ford Coppola</td>\n",
       "        <td>United States</td>\n",
       "        <td>1939-04-07</td>\n",
       "        <td>None</td>\n",
       "        <td>None</td>\n",
       "        <td>OS_SGAD</td>\n",
       "        <td>None</td>\n",
       "        <td>None</td>\n",
       "    </tr>\n",
       "    <tr>\n",
       "        <td>2</td>\n",
       "        <td>Carmine Coppola</td>\n",
       "        <td>United States</td>\n",
       "        <td>1945-07-08</td>\n",
       "        <td>None</td>\n",
       "        <td>None</td>\n",
       "        <td>OS_SGAD</td>\n",
       "        <td>None</td>\n",
       "        <td>None</td>\n",
       "    </tr>\n",
       "    <tr>\n",
       "        <td>3</td>\n",
       "        <td>Marlon Brando</td>\n",
       "        <td>United States</td>\n",
       "        <td>1924-04-03</td>\n",
       "        <td>2004-07-01</td>\n",
       "        <td>None</td>\n",
       "        <td>OS_SGAD</td>\n",
       "        <td>None</td>\n",
       "        <td>None</td>\n",
       "    </tr>\n",
       "    <tr>\n",
       "        <td>4</td>\n",
       "        <td>Robert Duvall</td>\n",
       "        <td>United States</td>\n",
       "        <td>1931-01-05</td>\n",
       "        <td>None</td>\n",
       "        <td>None</td>\n",
       "        <td>OS_SGAD</td>\n",
       "        <td>None</td>\n",
       "        <td>None</td>\n",
       "    </tr>\n",
       "    <tr>\n",
       "        <td>5</td>\n",
       "        <td>Martin Sheen</td>\n",
       "        <td>United States</td>\n",
       "        <td>1940-08-03</td>\n",
       "        <td>None</td>\n",
       "        <td>None</td>\n",
       "        <td>OS_SGAD</td>\n",
       "        <td>None</td>\n",
       "        <td>None</td>\n",
       "    </tr>\n",
       "    <tr>\n",
       "        <td>6</td>\n",
       "        <td>Harrison Ford</td>\n",
       "        <td>United States</td>\n",
       "        <td>1942-07-13</td>\n",
       "        <td>None</td>\n",
       "        <td>None</td>\n",
       "        <td>OS_SGAD</td>\n",
       "        <td>None</td>\n",
       "        <td>None</td>\n",
       "    </tr>\n",
       "    <tr>\n",
       "        <td>7</td>\n",
       "        <td>George Lucas</td>\n",
       "        <td>United States</td>\n",
       "        <td>1944-05-14</td>\n",
       "        <td>None</td>\n",
       "        <td>None</td>\n",
       "        <td>OS_SGAD</td>\n",
       "        <td>None</td>\n",
       "        <td>None</td>\n",
       "    </tr>\n",
       "    <tr>\n",
       "        <td>8</td>\n",
       "        <td>Gary Kurtz</td>\n",
       "        <td>United States</td>\n",
       "        <td>1940-07-27</td>\n",
       "        <td>None</td>\n",
       "        <td>None</td>\n",
       "        <td>OS_SGAD</td>\n",
       "        <td>None</td>\n",
       "        <td>None</td>\n",
       "    </tr>\n",
       "    <tr>\n",
       "        <td>9</td>\n",
       "        <td>Steven Spielberg</td>\n",
       "        <td>United States</td>\n",
       "        <td>1946-12-18</td>\n",
       "        <td>None</td>\n",
       "        <td>None</td>\n",
       "        <td>OS_SGAD</td>\n",
       "        <td>None</td>\n",
       "        <td>None</td>\n",
       "    </tr>\n",
       "    <tr>\n",
       "        <td>10</td>\n",
       "        <td>John Williams</td>\n",
       "        <td>United States</td>\n",
       "        <td>1928-08-08</td>\n",
       "        <td>None</td>\n",
       "        <td>None</td>\n",
       "        <td>OS_SGAD</td>\n",
       "        <td>None</td>\n",
       "        <td>None</td>\n",
       "    </tr>\n",
       "</table>"
      ],
      "text/plain": [
       "[(1, 'Francis Ford Coppola', 'United States', '1939-04-07', None, None, 'OS_SGAD', None, None),\n",
       " (2, 'Carmine Coppola', 'United States', '1945-07-08', None, None, 'OS_SGAD', None, None),\n",
       " (3, 'Marlon Brando', 'United States', '1924-04-03', '2004-07-01', None, 'OS_SGAD', None, None),\n",
       " (4, 'Robert Duvall', 'United States', '1931-01-05', None, None, 'OS_SGAD', None, None),\n",
       " (5, 'Martin Sheen', 'United States', '1940-08-03', None, None, 'OS_SGAD', None, None),\n",
       " (6, 'Harrison Ford', 'United States', '1942-07-13', None, None, 'OS_SGAD', None, None),\n",
       " (7, 'George Lucas', 'United States', '1944-05-14', None, None, 'OS_SGAD', None, None),\n",
       " (8, 'Gary Kurtz', 'United States', '1940-07-27', None, None, 'OS_SGAD', None, None),\n",
       " (9, 'Steven Spielberg', 'United States', '1946-12-18', None, None, 'OS_SGAD', None, None),\n",
       " (10, 'John Williams', 'United States', '1928-08-08', None, None, 'OS_SGAD', None, None)]"
      ]
     },
     "execution_count": 97,
     "metadata": {},
     "output_type": "execute_result"
    }
   ],
   "source": [
    "%%sql\n",
    "\n",
    "SELECT * FROM tb_person LIMIT 10"
   ]
  },
  {
   "cell_type": "markdown",
   "id": "916973e4",
   "metadata": {},
   "source": [
    "The table consists of 52 rows (only 10 are shown) i.e., 52 persons, and 9 columns with its attributes being: \n",
    "\n",
    "1. *person_id*: ID of the person, from 1 to 52, which is linked to the **tb_movie_person** table. TYPE: INTEGER NOT NULL. CONSTRAINT: PRIMARY KEY. \n",
    "2. *person_name*:  Full name of the person. \n",
    "3. *person_country*: The country where was born. \n",
    "4. *person_dob*: The date when was born. \n",
    "5. *person_dod*: The date of death. Note that most of the people in the table are still alive. \n",
    "6. *person_parent_id*: ID of the parent. TYPE: INTEGER. CONSTRAINT: FOREIGN KEY REFERENCES tb_person (person_id). TYPE: INTEGER\n",
    "7. *created_by_user*: Who created the data. TYPE: CHARACTER VARYING(10) NOT NULL DEFAULT 'OS_SGAD'. \n",
    "8. *created_date*: When the user created the data. TYPE: DATE.\n",
    "9. *data_update*: Whether the data has been updated or not. TYPE: DATE."
   ]
  },
  {
   "cell_type": "markdown",
   "id": "b230d309",
   "metadata": {},
   "source": [
    "### **tb_role**"
   ]
  },
  {
   "cell_type": "code",
   "execution_count": 41,
   "id": "4b9901f6",
   "metadata": {},
   "outputs": [
    {
     "name": "stdout",
     "output_type": "stream",
     "text": [
      " * sqlite://\n",
      "Done.\n"
     ]
    },
    {
     "data": {
      "text/html": [
       "<table>\n",
       "    <tr>\n",
       "        <th>role_id</th>\n",
       "        <th>role_name</th>\n",
       "        <th>created_by_user</th>\n",
       "        <th>created_date</th>\n",
       "        <th>updated_date</th>\n",
       "    </tr>\n",
       "    <tr>\n",
       "        <td>1</td>\n",
       "        <td>Actor</td>\n",
       "        <td>OS_SGAD</td>\n",
       "        <td>None</td>\n",
       "        <td>None</td>\n",
       "    </tr>\n",
       "    <tr>\n",
       "        <td>2</td>\n",
       "        <td>Director</td>\n",
       "        <td>OS_SGAD</td>\n",
       "        <td>None</td>\n",
       "        <td>None</td>\n",
       "    </tr>\n",
       "    <tr>\n",
       "        <td>3</td>\n",
       "        <td>Productor</td>\n",
       "        <td>OS_SGAD</td>\n",
       "        <td>None</td>\n",
       "        <td>None</td>\n",
       "    </tr>\n",
       "    <tr>\n",
       "        <td>4</td>\n",
       "        <td>Guionista</td>\n",
       "        <td>OS_SGAD</td>\n",
       "        <td>None</td>\n",
       "        <td>None</td>\n",
       "    </tr>\n",
       "    <tr>\n",
       "        <td>5</td>\n",
       "        <td>Música</td>\n",
       "        <td>OS_SGAD</td>\n",
       "        <td>None</td>\n",
       "        <td>None</td>\n",
       "    </tr>\n",
       "</table>"
      ],
      "text/plain": [
       "[(1, 'Actor', 'OS_SGAD', None, None),\n",
       " (2, 'Director', 'OS_SGAD', None, None),\n",
       " (3, 'Productor', 'OS_SGAD', None, None),\n",
       " (4, 'Guionista', 'OS_SGAD', None, None),\n",
       " (5, 'Música', 'OS_SGAD', None, None)]"
      ]
     },
     "execution_count": 41,
     "metadata": {},
     "output_type": "execute_result"
    }
   ],
   "source": [
    "%%sql\n",
    "\n",
    "SELECT * FROM tb_role"
   ]
  },
  {
   "cell_type": "markdown",
   "id": "a7ad9412",
   "metadata": {},
   "source": [
    "The table consist of 5 rows, i.e., 5 different roles, and 5 columns. \n",
    "1. *role_id*: ID identifying the different role.  This column is linked to the **tb_movie_person** table. TYPE: INTEGER NOT NULL. CONSTRAINT: PRIMARY KEY\n",
    "2. *role_name*: Name of the different roles. TYPE: CHARACTER VARYING(60) NOT NULL\n",
    "3. *created_by_user*: Who created the data. TYPE: CHARACTER VARYING(10) NOT NULL DEFAULT 'OS_SGAD'. \n",
    "4. *created_date*: When the user created the data. TYPE: DATE.\n",
    "5. *data_update*: Whether the data has been updated or not. TYPE: DATE.\n"
   ]
  },
  {
   "cell_type": "markdown",
   "id": "9bd9d65b",
   "metadata": {},
   "source": [
    "### **tb_movie_person**"
   ]
  },
  {
   "cell_type": "code",
   "execution_count": 44,
   "id": "712f601a",
   "metadata": {},
   "outputs": [
    {
     "name": "stdout",
     "output_type": "stream",
     "text": [
      " * sqlite://\n",
      "Done.\n"
     ]
    },
    {
     "data": {
      "text/html": [
       "<table>\n",
       "    <tr>\n",
       "        <th>movie_id</th>\n",
       "        <th>person_id</th>\n",
       "        <th>role_id</th>\n",
       "        <th>movie_award_ind</th>\n",
       "        <th>created_by_user</th>\n",
       "        <th>created_date</th>\n",
       "        <th>updated_date</th>\n",
       "    </tr>\n",
       "    <tr>\n",
       "        <td>1</td>\n",
       "        <td>1</td>\n",
       "        <td>2</td>\n",
       "        <td>Y</td>\n",
       "        <td>OS_SGAD</td>\n",
       "        <td>None</td>\n",
       "        <td>None</td>\n",
       "    </tr>\n",
       "    <tr>\n",
       "        <td>1</td>\n",
       "        <td>1</td>\n",
       "        <td>3</td>\n",
       "        <td>N</td>\n",
       "        <td>OS_SGAD</td>\n",
       "        <td>None</td>\n",
       "        <td>None</td>\n",
       "    </tr>\n",
       "    <tr>\n",
       "        <td>1</td>\n",
       "        <td>1</td>\n",
       "        <td>5</td>\n",
       "        <td>N</td>\n",
       "        <td>OS_SGAD</td>\n",
       "        <td>None</td>\n",
       "        <td>None</td>\n",
       "    </tr>\n",
       "    <tr>\n",
       "        <td>1</td>\n",
       "        <td>2</td>\n",
       "        <td>5</td>\n",
       "        <td>N</td>\n",
       "        <td>OS_SGAD</td>\n",
       "        <td>None</td>\n",
       "        <td>None</td>\n",
       "    </tr>\n",
       "    <tr>\n",
       "        <td>1</td>\n",
       "        <td>3</td>\n",
       "        <td>1</td>\n",
       "        <td>N</td>\n",
       "        <td>OS_SGAD</td>\n",
       "        <td>None</td>\n",
       "        <td>None</td>\n",
       "    </tr>\n",
       "    <tr>\n",
       "        <td>1</td>\n",
       "        <td>4</td>\n",
       "        <td>1</td>\n",
       "        <td>N</td>\n",
       "        <td>OS_SGAD</td>\n",
       "        <td>None</td>\n",
       "        <td>None</td>\n",
       "    </tr>\n",
       "    <tr>\n",
       "        <td>1</td>\n",
       "        <td>5</td>\n",
       "        <td>1</td>\n",
       "        <td>Y</td>\n",
       "        <td>OS_SGAD</td>\n",
       "        <td>None</td>\n",
       "        <td>None</td>\n",
       "    </tr>\n",
       "    <tr>\n",
       "        <td>1</td>\n",
       "        <td>41</td>\n",
       "        <td>1</td>\n",
       "        <td>N</td>\n",
       "        <td>OS_SGAD</td>\n",
       "        <td>None</td>\n",
       "        <td>None</td>\n",
       "    </tr>\n",
       "    <tr>\n",
       "        <td>1</td>\n",
       "        <td>6</td>\n",
       "        <td>1</td>\n",
       "        <td>N</td>\n",
       "        <td>OS_SGAD</td>\n",
       "        <td>None</td>\n",
       "        <td>None</td>\n",
       "    </tr>\n",
       "    <tr>\n",
       "        <td>2</td>\n",
       "        <td>6</td>\n",
       "        <td>1</td>\n",
       "        <td>N</td>\n",
       "        <td>OS_SGAD</td>\n",
       "        <td>None</td>\n",
       "        <td>None</td>\n",
       "    </tr>\n",
       "</table>"
      ],
      "text/plain": [
       "[(1, 1, 2, 'Y', 'OS_SGAD', None, None),\n",
       " (1, 1, 3, 'N', 'OS_SGAD', None, None),\n",
       " (1, 1, 5, 'N', 'OS_SGAD', None, None),\n",
       " (1, 2, 5, 'N', 'OS_SGAD', None, None),\n",
       " (1, 3, 1, 'N', 'OS_SGAD', None, None),\n",
       " (1, 4, 1, 'N', 'OS_SGAD', None, None),\n",
       " (1, 5, 1, 'Y', 'OS_SGAD', None, None),\n",
       " (1, 41, 1, 'N', 'OS_SGAD', None, None),\n",
       " (1, 6, 1, 'N', 'OS_SGAD', None, None),\n",
       " (2, 6, 1, 'N', 'OS_SGAD', None, None)]"
      ]
     },
     "execution_count": 44,
     "metadata": {},
     "output_type": "execute_result"
    }
   ],
   "source": [
    "%%sql\n",
    "\n",
    "SELECT * FROM tb_movie_person LIMIT 10"
   ]
  },
  {
   "cell_type": "markdown",
   "id": "5b6ac08c",
   "metadata": {},
   "source": [
    "This is the main table, which acts as the connector with the rest of the tables. It consists of 50 rows and 7 columns. \n",
    "\n",
    "1. *movie_id*: ID of the movie. It is linked to the **tb_movie** table. TYPE: INTEGER NOT NULL. CONSTRAINT: PRIMARY KEY AND FOREIGN KEY,  REFERENCES tb_movie (movie_id). \n",
    "2. *person_id*: ID of the person. TYPE: INTEGER NOT NULL. CONSTRAINT: PRIMARY KEY AND FOREIGN KEY,  REFERENCES tb_person (person_id).\n",
    "3. *role_id*: ID of the role. TYPE: INTEGER NOT NULL. CONSTRAINT: PRIMARY KEY AND FOREIGN KEY,  REFERENCES tb_role (role_id).\n",
    "4. *movie_award_Ind*: Whether the movie has been awarded (Y:Yes) or not (N: No). TYPE: CHAR(1) NOT NULL.\n",
    "5. *created_by_user*: Who created the data. TYPE: CHARACTER VARYING(10) NOT NULL DEFAULT 'OS_SGAD'. \n",
    "6. *created_date*: When the user created the data. TYPE: DATE.\n",
    "7. *data_update*: Whether the data has been updated or not. TYPE: DATE.\n",
    "\n",
    "\n"
   ]
  },
  {
   "cell_type": "markdown",
   "id": "d20518a9",
   "metadata": {},
   "source": [
    "## Who is still alive?"
   ]
  },
  {
   "cell_type": "markdown",
   "id": "9e5528d7",
   "metadata": {},
   "source": [
    "Let's try to figure out the name, country and date of birth of the persons who are still alive. "
   ]
  },
  {
   "cell_type": "code",
   "execution_count": 45,
   "id": "a2b95d0d",
   "metadata": {},
   "outputs": [
    {
     "name": "stdout",
     "output_type": "stream",
     "text": [
      " * sqlite://\n",
      "Done.\n"
     ]
    },
    {
     "data": {
      "text/html": [
       "<table>\n",
       "    <tr>\n",
       "        <th>person_name</th>\n",
       "        <th>person_country</th>\n",
       "        <th>person_dob</th>\n",
       "    </tr>\n",
       "    <tr>\n",
       "        <td>John Williams</td>\n",
       "        <td>United States</td>\n",
       "        <td>1928-08-08</td>\n",
       "    </tr>\n",
       "    <tr>\n",
       "        <td>Vera Miles</td>\n",
       "        <td>United States</td>\n",
       "        <td>1929-08-23</td>\n",
       "    </tr>\n",
       "    <tr>\n",
       "        <td>Sean Connery</td>\n",
       "        <td>Scotland</td>\n",
       "        <td>1930-07-08</td>\n",
       "    </tr>\n",
       "    <tr>\n",
       "        <td>Robert Duvall</td>\n",
       "        <td>United States</td>\n",
       "        <td>1931-01-05</td>\n",
       "    </tr>\n",
       "    <tr>\n",
       "        <td>Morgan Freeman</td>\n",
       "        <td>United States</td>\n",
       "        <td>1935-10-01</td>\n",
       "    </tr>\n",
       "    <tr>\n",
       "        <td>Francis Ford Coppola</td>\n",
       "        <td>United States</td>\n",
       "        <td>1939-04-07</td>\n",
       "    </tr>\n",
       "    <tr>\n",
       "        <td>Gary Kurtz</td>\n",
       "        <td>United States</td>\n",
       "        <td>1940-07-27</td>\n",
       "    </tr>\n",
       "    <tr>\n",
       "        <td>Martin Sheen</td>\n",
       "        <td>United States</td>\n",
       "        <td>1940-08-03</td>\n",
       "    </tr>\n",
       "    <tr>\n",
       "        <td>Harrison Ford</td>\n",
       "        <td>United States</td>\n",
       "        <td>1942-07-13</td>\n",
       "    </tr>\n",
       "    <tr>\n",
       "        <td>George Lucas</td>\n",
       "        <td>United States</td>\n",
       "        <td>1944-05-14</td>\n",
       "    </tr>\n",
       "    <tr>\n",
       "        <td>Carmine Coppola</td>\n",
       "        <td>United States</td>\n",
       "        <td>1945-07-08</td>\n",
       "    </tr>\n",
       "    <tr>\n",
       "        <td>Steven Spielberg</td>\n",
       "        <td>United States</td>\n",
       "        <td>1946-12-18</td>\n",
       "    </tr>\n",
       "    <tr>\n",
       "        <td>Tim Robbins</td>\n",
       "        <td>United States</td>\n",
       "        <td>1949-06-07</td>\n",
       "    </tr>\n",
       "    <tr>\n",
       "        <td>Mel Gibson</td>\n",
       "        <td>Australia</td>\n",
       "        <td>1950-08-09</td>\n",
       "    </tr>\n",
       "    <tr>\n",
       "        <td>Tom Hanks</td>\n",
       "        <td>United States</td>\n",
       "        <td>1956-07-09</td>\n",
       "    </tr>\n",
       "    <tr>\n",
       "        <td>Emilio Martinez Lazaro</td>\n",
       "        <td>Spain</td>\n",
       "        <td>1956-09-09</td>\n",
       "    </tr>\n",
       "    <tr>\n",
       "        <td>Karra Elejalde</td>\n",
       "        <td>Spain</td>\n",
       "        <td>1960-03-06</td>\n",
       "    </tr>\n",
       "    <tr>\n",
       "        <td>Emilio Estevez</td>\n",
       "        <td>United States</td>\n",
       "        <td>1962-05-12</td>\n",
       "    </tr>\n",
       "    <tr>\n",
       "        <td>Ramón Estevez</td>\n",
       "        <td>United States</td>\n",
       "        <td>1963-08-07</td>\n",
       "    </tr>\n",
       "    <tr>\n",
       "        <td>Carmen Machi</td>\n",
       "        <td>Spain</td>\n",
       "        <td>1964-08-09</td>\n",
       "    </tr>\n",
       "    <tr>\n",
       "        <td>Charlie Sheen</td>\n",
       "        <td>United States</td>\n",
       "        <td>1965-09-03</td>\n",
       "    </tr>\n",
       "    <tr>\n",
       "        <td>Reneé Estevez</td>\n",
       "        <td>United States</td>\n",
       "        <td>1967-04-02</td>\n",
       "    </tr>\n",
       "    <tr>\n",
       "        <td>Catherine Zeta-Jones</td>\n",
       "        <td>Wales</td>\n",
       "        <td>1969-09-25</td>\n",
       "    </tr>\n",
       "    <tr>\n",
       "        <td>Robert Alamo</td>\n",
       "        <td>Spain</td>\n",
       "        <td>1970-05-06</td>\n",
       "    </tr>\n",
       "    <tr>\n",
       "        <td>Daniel Sanchez Arevalo</td>\n",
       "        <td>Spain</td>\n",
       "        <td>1970-06-08</td>\n",
       "    </tr>\n",
       "    <tr>\n",
       "        <td>Quim Gutierrez</td>\n",
       "        <td>Spain</td>\n",
       "        <td>1981-03-27</td>\n",
       "    </tr>\n",
       "    <tr>\n",
       "        <td>Veronica Echegui</td>\n",
       "        <td>Spain</td>\n",
       "        <td>1983-03-14</td>\n",
       "    </tr>\n",
       "    <tr>\n",
       "        <td>Taylor Levi Estevez</td>\n",
       "        <td>United States</td>\n",
       "        <td>1984-06-22</td>\n",
       "    </tr>\n",
       "    <tr>\n",
       "        <td>Dani Rovira</td>\n",
       "        <td>Spain</td>\n",
       "        <td>1984-07-01</td>\n",
       "    </tr>\n",
       "    <tr>\n",
       "        <td>Paula Speert Sheen</td>\n",
       "        <td>United States</td>\n",
       "        <td>1986-01-06</td>\n",
       "    </tr>\n",
       "    <tr>\n",
       "        <td>Paloma Rae Estevez</td>\n",
       "        <td>United States</td>\n",
       "        <td>1986-02-15</td>\n",
       "    </tr>\n",
       "    <tr>\n",
       "        <td>Clara Lago</td>\n",
       "        <td>Spain</td>\n",
       "        <td>1986-04-17</td>\n",
       "    </tr>\n",
       "    <tr>\n",
       "        <td>Patrick Criado</td>\n",
       "        <td>Spain</td>\n",
       "        <td>1995-09-23</td>\n",
       "    </tr>\n",
       "    <tr>\n",
       "        <td>Paula Jones-Sheen</td>\n",
       "        <td>United States</td>\n",
       "        <td>2003-07-06</td>\n",
       "    </tr>\n",
       "    <tr>\n",
       "        <td>Sam Sheen</td>\n",
       "        <td>United States</td>\n",
       "        <td>2004-03-09</td>\n",
       "    </tr>\n",
       "    <tr>\n",
       "        <td>Lola Sheen</td>\n",
       "        <td>United States</td>\n",
       "        <td>2005-06-01</td>\n",
       "    </tr>\n",
       "    <tr>\n",
       "        <td>Bob Sheen</td>\n",
       "        <td>United States</td>\n",
       "        <td>2009-05-01</td>\n",
       "    </tr>\n",
       "    <tr>\n",
       "        <td>Max Sheen</td>\n",
       "        <td>United States</td>\n",
       "        <td>2009-05-01</td>\n",
       "    </tr>\n",
       "</table>"
      ],
      "text/plain": [
       "[('John Williams', 'United States', '1928-08-08'),\n",
       " ('Vera Miles', 'United States', '1929-08-23'),\n",
       " ('Sean Connery', 'Scotland', '1930-07-08'),\n",
       " ('Robert Duvall', 'United States', '1931-01-05'),\n",
       " ('Morgan Freeman', 'United States', '1935-10-01'),\n",
       " ('Francis Ford Coppola', 'United States', '1939-04-07'),\n",
       " ('Gary Kurtz', 'United States', '1940-07-27'),\n",
       " ('Martin Sheen', 'United States', '1940-08-03'),\n",
       " ('Harrison Ford', 'United States', '1942-07-13'),\n",
       " ('George Lucas', 'United States', '1944-05-14'),\n",
       " ('Carmine Coppola', 'United States', '1945-07-08'),\n",
       " ('Steven Spielberg', 'United States', '1946-12-18'),\n",
       " ('Tim Robbins', 'United States', '1949-06-07'),\n",
       " ('Mel Gibson', 'Australia', '1950-08-09'),\n",
       " ('Tom Hanks', 'United States', '1956-07-09'),\n",
       " ('Emilio Martinez Lazaro', 'Spain', '1956-09-09'),\n",
       " ('Karra Elejalde', 'Spain', '1960-03-06'),\n",
       " ('Emilio Estevez', 'United States', '1962-05-12'),\n",
       " ('Ramón Estevez', 'United States', '1963-08-07'),\n",
       " ('Carmen Machi', 'Spain', '1964-08-09'),\n",
       " ('Charlie Sheen', 'United States', '1965-09-03'),\n",
       " ('Reneé Estevez', 'United States', '1967-04-02'),\n",
       " ('Catherine Zeta-Jones', 'Wales', '1969-09-25'),\n",
       " ('Robert Alamo', 'Spain', '1970-05-06'),\n",
       " ('Daniel Sanchez Arevalo', 'Spain', '1970-06-08'),\n",
       " ('Quim Gutierrez', 'Spain', '1981-03-27'),\n",
       " ('Veronica Echegui', 'Spain', '1983-03-14'),\n",
       " ('Taylor Levi Estevez', 'United States', '1984-06-22'),\n",
       " ('Dani Rovira', 'Spain', '1984-07-01'),\n",
       " ('Paula Speert Sheen', 'United States', '1986-01-06'),\n",
       " ('Paloma Rae Estevez', 'United States', '1986-02-15'),\n",
       " ('Clara Lago', 'Spain', '1986-04-17'),\n",
       " ('Patrick Criado', 'Spain', '1995-09-23'),\n",
       " ('Paula Jones-Sheen', 'United States', '2003-07-06'),\n",
       " ('Sam Sheen', 'United States', '2004-03-09'),\n",
       " ('Lola Sheen', 'United States', '2005-06-01'),\n",
       " ('Bob Sheen', 'United States', '2009-05-01'),\n",
       " ('Max Sheen', 'United States', '2009-05-01')]"
      ]
     },
     "execution_count": 45,
     "metadata": {},
     "output_type": "execute_result"
    }
   ],
   "source": [
    "%%sql\n",
    "\n",
    "SELECT person_name, person_country, person_dob\n",
    "FROM tb_person\n",
    "WHERE person_dod IS NULL\n",
    "ORDER BY person_dob ASC"
   ]
  },
  {
   "cell_type": "markdown",
   "id": "cee417e9",
   "metadata": {},
   "source": [
    "We can observe that the youngest alive person  is **Max Sheen**, who was born in 2009-05-01 in United States, while the eldest alive person is **John Williams**, who was born in\tUnited States, in  \t1928-08-08."
   ]
  },
  {
   "cell_type": "markdown",
   "id": "a573df1d",
   "metadata": {},
   "source": [
    "# How many movies of each genre are there?"
   ]
  },
  {
   "cell_type": "markdown",
   "id": "402a5c85",
   "metadata": {},
   "source": [
    "Let's try to figure out how many movies each genre have. "
   ]
  },
  {
   "cell_type": "code",
   "execution_count": 48,
   "id": "086051e8",
   "metadata": {},
   "outputs": [
    {
     "name": "stdout",
     "output_type": "stream",
     "text": [
      " * sqlite://\n",
      "Done.\n"
     ]
    },
    {
     "data": {
      "text/html": [
       "<table>\n",
       "    <tr>\n",
       "        <th>COUNT(genre_id)</th>\n",
       "        <th>genre_name</th>\n",
       "    </tr>\n",
       "    <tr>\n",
       "        <td>3</td>\n",
       "        <td>Comedia</td>\n",
       "    </tr>\n",
       "    <tr>\n",
       "        <td>2</td>\n",
       "        <td>Suspense</td>\n",
       "    </tr>\n",
       "    <tr>\n",
       "        <td>2</td>\n",
       "        <td>Romance</td>\n",
       "    </tr>\n",
       "    <tr>\n",
       "        <td>2</td>\n",
       "        <td>Drama</td>\n",
       "    </tr>\n",
       "    <tr>\n",
       "        <td>2</td>\n",
       "        <td>Ciencia Ficción</td>\n",
       "    </tr>\n",
       "    <tr>\n",
       "        <td>2</td>\n",
       "        <td>Acción</td>\n",
       "    </tr>\n",
       "    <tr>\n",
       "        <td>1</td>\n",
       "        <td>Terror</td>\n",
       "    </tr>\n",
       "    <tr>\n",
       "        <td>1</td>\n",
       "        <td>Fantasía</td>\n",
       "    </tr>\n",
       "    <tr>\n",
       "        <td>1</td>\n",
       "        <td>Bélico</td>\n",
       "    </tr>\n",
       "</table>"
      ],
      "text/plain": [
       "[(3, 'Comedia'),\n",
       " (2, 'Suspense'),\n",
       " (2, 'Romance'),\n",
       " (2, 'Drama'),\n",
       " (2, 'Ciencia Ficción'),\n",
       " (2, 'Acción'),\n",
       " (1, 'Terror'),\n",
       " (1, 'Fantasía'),\n",
       " (1, 'Bélico')]"
      ]
     },
     "execution_count": 48,
     "metadata": {},
     "output_type": "execute_result"
    }
   ],
   "source": [
    "%%sql\n",
    "\n",
    "SELECT COUNT(genre_id), genre_name\n",
    "FROM tb_genre\n",
    "INNER JOIN tb_movie\n",
    "ON movie_genre_id=genre_id\n",
    "GROUP BY genre_name\n",
    "ORDER BY COUNT(genre_id) DESC"
   ]
  },
  {
   "cell_type": "markdown",
   "id": "4a0e0610",
   "metadata": {},
   "source": [
    "We observe that  the genre of *Comedy* is the genre with more movies in the database, while *War*, *Fantasy*, and *Horror* movies are the less present in the database. "
   ]
  },
  {
   "cell_type": "markdown",
   "id": "1874b916",
   "metadata": {},
   "source": [
    "# What is the maximum number of roles performed by each person?"
   ]
  },
  {
   "cell_type": "markdown",
   "id": "1bc7bdd1",
   "metadata": {},
   "source": [
    "We are going to figure out the name of the person and the maximum number of roles which that person had in a single movie. "
   ]
  },
  {
   "cell_type": "code",
   "execution_count": 124,
   "id": "d5e02753",
   "metadata": {},
   "outputs": [
    {
     "name": "stdout",
     "output_type": "stream",
     "text": [
      " * sqlite://\n",
      "Done.\n"
     ]
    },
    {
     "data": {
      "text/html": [
       "<table>\n",
       "    <tr>\n",
       "        <th>person_name</th>\n",
       "        <th>COUNT(m.role_id)</th>\n",
       "    </tr>\n",
       "    <tr>\n",
       "        <td>Steven Spielberg</td>\n",
       "        <td>4</td>\n",
       "    </tr>\n",
       "    <tr>\n",
       "        <td>Emilio Martinez Lazaro</td>\n",
       "        <td>3</td>\n",
       "    </tr>\n",
       "    <tr>\n",
       "        <td>Harrison Ford</td>\n",
       "        <td>3</td>\n",
       "    </tr>\n",
       "    <tr>\n",
       "        <td>Carmen Machi</td>\n",
       "        <td>2</td>\n",
       "    </tr>\n",
       "    <tr>\n",
       "        <td>Clara Lago</td>\n",
       "        <td>2</td>\n",
       "    </tr>\n",
       "    <tr>\n",
       "        <td>Dani Rovira</td>\n",
       "        <td>2</td>\n",
       "    </tr>\n",
       "    <tr>\n",
       "        <td>Karra Elejalde</td>\n",
       "        <td>2</td>\n",
       "    </tr>\n",
       "    <tr>\n",
       "        <td>Alfred Joseph Hitchcock</td>\n",
       "        <td>1</td>\n",
       "    </tr>\n",
       "    <tr>\n",
       "        <td>Anthony Perkins</td>\n",
       "        <td>1</td>\n",
       "    </tr>\n",
       "    <tr>\n",
       "        <td>Carmine Coppola</td>\n",
       "        <td>1</td>\n",
       "    </tr>\n",
       "    <tr>\n",
       "        <td>Catherine Zeta-Jones</td>\n",
       "        <td>1</td>\n",
       "    </tr>\n",
       "    <tr>\n",
       "        <td>Charlie Sheen</td>\n",
       "        <td>1</td>\n",
       "    </tr>\n",
       "    <tr>\n",
       "        <td>Daniel Sanchez Arevalo</td>\n",
       "        <td>1</td>\n",
       "    </tr>\n",
       "    <tr>\n",
       "        <td>Francis Ford Coppola</td>\n",
       "        <td>1</td>\n",
       "    </tr>\n",
       "    <tr>\n",
       "        <td>Gary Kurtz</td>\n",
       "        <td>1</td>\n",
       "    </tr>\n",
       "    <tr>\n",
       "        <td>George Lucas</td>\n",
       "        <td>1</td>\n",
       "    </tr>\n",
       "    <tr>\n",
       "        <td>Hector Colome</td>\n",
       "        <td>1</td>\n",
       "    </tr>\n",
       "    <tr>\n",
       "        <td>John Williams</td>\n",
       "        <td>1</td>\n",
       "    </tr>\n",
       "    <tr>\n",
       "        <td>Marlon Brando</td>\n",
       "        <td>1</td>\n",
       "    </tr>\n",
       "    <tr>\n",
       "        <td>Martin Sheen</td>\n",
       "        <td>1</td>\n",
       "    </tr>\n",
       "    <tr>\n",
       "        <td>Mel Gibson</td>\n",
       "        <td>1</td>\n",
       "    </tr>\n",
       "    <tr>\n",
       "        <td>Morgan Freeman</td>\n",
       "        <td>1</td>\n",
       "    </tr>\n",
       "    <tr>\n",
       "        <td>Patrick Criado</td>\n",
       "        <td>1</td>\n",
       "    </tr>\n",
       "    <tr>\n",
       "        <td>Quim Gutierrez</td>\n",
       "        <td>1</td>\n",
       "    </tr>\n",
       "    <tr>\n",
       "        <td>Robert Alamo</td>\n",
       "        <td>1</td>\n",
       "    </tr>\n",
       "    <tr>\n",
       "        <td>Robert Duvall</td>\n",
       "        <td>1</td>\n",
       "    </tr>\n",
       "    <tr>\n",
       "        <td>Steven Spielberg</td>\n",
       "        <td>1</td>\n",
       "    </tr>\n",
       "    <tr>\n",
       "        <td>Tim Robbins</td>\n",
       "        <td>1</td>\n",
       "    </tr>\n",
       "    <tr>\n",
       "        <td>Tom Hanks</td>\n",
       "        <td>1</td>\n",
       "    </tr>\n",
       "    <tr>\n",
       "        <td>Vera Miles</td>\n",
       "        <td>1</td>\n",
       "    </tr>\n",
       "    <tr>\n",
       "        <td>Veronica Echegui</td>\n",
       "        <td>1</td>\n",
       "    </tr>\n",
       "</table>"
      ],
      "text/plain": [
       "[('Steven Spielberg', 4),\n",
       " ('Emilio Martinez Lazaro', 3),\n",
       " ('Harrison Ford', 3),\n",
       " ('Carmen Machi', 2),\n",
       " ('Clara Lago', 2),\n",
       " ('Dani Rovira', 2),\n",
       " ('Karra Elejalde', 2),\n",
       " ('Alfred Joseph Hitchcock', 1),\n",
       " ('Anthony Perkins', 1),\n",
       " ('Carmine Coppola', 1),\n",
       " ('Catherine Zeta-Jones', 1),\n",
       " ('Charlie Sheen', 1),\n",
       " ('Daniel Sanchez Arevalo', 1),\n",
       " ('Francis Ford Coppola', 1),\n",
       " ('Gary Kurtz', 1),\n",
       " ('George Lucas', 1),\n",
       " ('Hector Colome', 1),\n",
       " ('John Williams', 1),\n",
       " ('Marlon Brando', 1),\n",
       " ('Martin Sheen', 1),\n",
       " ('Mel Gibson', 1),\n",
       " ('Morgan Freeman', 1),\n",
       " ('Patrick Criado', 1),\n",
       " ('Quim Gutierrez', 1),\n",
       " ('Robert Alamo', 1),\n",
       " ('Robert Duvall', 1),\n",
       " ('Steven Spielberg', 1),\n",
       " ('Tim Robbins', 1),\n",
       " ('Tom Hanks', 1),\n",
       " ('Vera Miles', 1),\n",
       " ('Veronica Echegui', 1)]"
      ]
     },
     "execution_count": 124,
     "metadata": {},
     "output_type": "execute_result"
    }
   ],
   "source": [
    "%%sql\n",
    "SELECT DISTINCT p.person_name,  COUNT(m.role_id)\n",
    "FROM tb_person p\n",
    "    INNER JOIN \n",
    "    tb_movie_person m ON p.person_id=m.person_id\n",
    "GROUP BY p.person_name, m.role_id\n",
    "HAVING COUNT(m.role_id)\n",
    "ORDER BY COUNT(m.role_id) DESC"
   ]
  },
  {
   "cell_type": "markdown",
   "id": "bf403d08",
   "metadata": {},
   "source": [
    "We observe that most of the people had a single role in a movie. Only few people had multiple roles in the same movie, as it can be observed in the following table:"
   ]
  },
  {
   "cell_type": "code",
   "execution_count": 123,
   "id": "1159f47c",
   "metadata": {
    "scrolled": true
   },
   "outputs": [
    {
     "name": "stdout",
     "output_type": "stream",
     "text": [
      " * sqlite://\n",
      "Done.\n"
     ]
    },
    {
     "data": {
      "text/html": [
       "<table>\n",
       "    <tr>\n",
       "        <th>person_name</th>\n",
       "        <th>COUNT(m.role_id)</th>\n",
       "    </tr>\n",
       "    <tr>\n",
       "        <td>Steven Spielberg</td>\n",
       "        <td>4</td>\n",
       "    </tr>\n",
       "    <tr>\n",
       "        <td>Emilio Martinez Lazaro</td>\n",
       "        <td>3</td>\n",
       "    </tr>\n",
       "    <tr>\n",
       "        <td>Harrison Ford</td>\n",
       "        <td>3</td>\n",
       "    </tr>\n",
       "    <tr>\n",
       "        <td>Carmen Machi</td>\n",
       "        <td>2</td>\n",
       "    </tr>\n",
       "    <tr>\n",
       "        <td>Clara Lago</td>\n",
       "        <td>2</td>\n",
       "    </tr>\n",
       "    <tr>\n",
       "        <td>Dani Rovira</td>\n",
       "        <td>2</td>\n",
       "    </tr>\n",
       "    <tr>\n",
       "        <td>Karra Elejalde</td>\n",
       "        <td>2</td>\n",
       "    </tr>\n",
       "</table>"
      ],
      "text/plain": [
       "[('Steven Spielberg', 4),\n",
       " ('Emilio Martinez Lazaro', 3),\n",
       " ('Harrison Ford', 3),\n",
       " ('Carmen Machi', 2),\n",
       " ('Clara Lago', 2),\n",
       " ('Dani Rovira', 2),\n",
       " ('Karra Elejalde', 2)]"
      ]
     },
     "execution_count": 123,
     "metadata": {},
     "output_type": "execute_result"
    }
   ],
   "source": [
    "%%sql\n",
    "SELECT DISTINCT p.person_name,  COUNT(m.role_id)\n",
    "FROM tb_person p\n",
    "    INNER JOIN \n",
    "    tb_movie_person m ON p.person_id=m.person_id\n",
    "GROUP BY p.person_name, m.role_id\n",
    "HAVING COUNT(m.role_id)>1\n",
    "ORDER BY COUNT(m.role_id) DESC"
   ]
  },
  {
   "cell_type": "markdown",
   "id": "45a58d98",
   "metadata": {},
   "source": [
    "It is not surpring that *Steven Spielberg*,  one of the most influential personalities in the history of cinema appears in the first place! At the end, one of his most famous quotes is: *The only time I'm totally happy is when I'm watching films or making them*.\""
   ]
  },
  {
   "cell_type": "markdown",
   "id": "0c1c2df9",
   "metadata": {},
   "source": [
    "# Modifying the database"
   ]
  },
  {
   "cell_type": "markdown",
   "id": "4cb58dc8",
   "metadata": {},
   "source": [
    "## Adding a new genre"
   ]
  },
  {
   "cell_type": "markdown",
   "id": "8d38500c",
   "metadata": {},
   "source": [
    "We are goint to add a new genre, '*Documental*', with a *ID_genre* of 69: "
   ]
  },
  {
   "cell_type": "code",
   "execution_count": 125,
   "id": "e37ca467",
   "metadata": {},
   "outputs": [
    {
     "name": "stdout",
     "output_type": "stream",
     "text": [
      " * sqlite://\n",
      "1 rows affected.\n"
     ]
    },
    {
     "data": {
      "text/plain": [
       "[]"
      ]
     },
     "execution_count": 125,
     "metadata": {},
     "output_type": "execute_result"
    }
   ],
   "source": [
    "%%sql\n",
    "INSERT INTO tb_genre (genre_id, genre_name) VALUES ( 69, 'Documental');"
   ]
  },
  {
   "cell_type": "markdown",
   "id": "ccc06671",
   "metadata": {},
   "source": [
    "Verification:"
   ]
  },
  {
   "cell_type": "code",
   "execution_count": 126,
   "id": "c919ad0c",
   "metadata": {},
   "outputs": [
    {
     "name": "stdout",
     "output_type": "stream",
     "text": [
      " * sqlite://\n",
      "Done.\n"
     ]
    },
    {
     "data": {
      "text/html": [
       "<table>\n",
       "    <tr>\n",
       "        <th>genre_id</th>\n",
       "        <th>genre_name</th>\n",
       "        <th>created_by_user</th>\n",
       "        <th>created_date</th>\n",
       "        <th>updated_date</th>\n",
       "    </tr>\n",
       "    <tr>\n",
       "        <td>1</td>\n",
       "        <td>Acción</td>\n",
       "        <td>OS_SGAD</td>\n",
       "        <td>None</td>\n",
       "        <td>None</td>\n",
       "    </tr>\n",
       "    <tr>\n",
       "        <td>2</td>\n",
       "        <td>Ciencia Ficción</td>\n",
       "        <td>OS_SGAD</td>\n",
       "        <td>None</td>\n",
       "        <td>None</td>\n",
       "    </tr>\n",
       "    <tr>\n",
       "        <td>3</td>\n",
       "        <td>Comedia</td>\n",
       "        <td>OS_SGAD</td>\n",
       "        <td>None</td>\n",
       "        <td>None</td>\n",
       "    </tr>\n",
       "    <tr>\n",
       "        <td>4</td>\n",
       "        <td>Drama</td>\n",
       "        <td>OS_SGAD</td>\n",
       "        <td>None</td>\n",
       "        <td>None</td>\n",
       "    </tr>\n",
       "    <tr>\n",
       "        <td>5</td>\n",
       "        <td>Fantasía</td>\n",
       "        <td>apermag</td>\n",
       "        <td>None</td>\n",
       "        <td>None</td>\n",
       "    </tr>\n",
       "    <tr>\n",
       "        <td>6</td>\n",
       "        <td>Melodrama</td>\n",
       "        <td>apermag</td>\n",
       "        <td>2018-09-01</td>\n",
       "        <td>2018-09-27</td>\n",
       "    </tr>\n",
       "    <tr>\n",
       "        <td>7</td>\n",
       "        <td>Musical</td>\n",
       "        <td>OS_SGAD</td>\n",
       "        <td>None</td>\n",
       "        <td>None</td>\n",
       "    </tr>\n",
       "    <tr>\n",
       "        <td>8</td>\n",
       "        <td>Romance</td>\n",
       "        <td>OS_SGAD</td>\n",
       "        <td>None</td>\n",
       "        <td>None</td>\n",
       "    </tr>\n",
       "    <tr>\n",
       "        <td>9</td>\n",
       "        <td>Suspense</td>\n",
       "        <td>OS_SGAD</td>\n",
       "        <td>None</td>\n",
       "        <td>None</td>\n",
       "    </tr>\n",
       "    <tr>\n",
       "        <td>10</td>\n",
       "        <td>Terror</td>\n",
       "        <td>OS_SGAD</td>\n",
       "        <td>None</td>\n",
       "        <td>None</td>\n",
       "    </tr>\n",
       "    <tr>\n",
       "        <td>11</td>\n",
       "        <td>Bélico</td>\n",
       "        <td>OS_SGAD</td>\n",
       "        <td>None</td>\n",
       "        <td>None</td>\n",
       "    </tr>\n",
       "    <tr>\n",
       "        <td>69</td>\n",
       "        <td>Documental</td>\n",
       "        <td>OS_SGAD</td>\n",
       "        <td>None</td>\n",
       "        <td>None</td>\n",
       "    </tr>\n",
       "</table>"
      ],
      "text/plain": [
       "[(1, 'Acción', 'OS_SGAD', None, None),\n",
       " (2, 'Ciencia Ficción', 'OS_SGAD', None, None),\n",
       " (3, 'Comedia', 'OS_SGAD', None, None),\n",
       " (4, 'Drama', 'OS_SGAD', None, None),\n",
       " (5, 'Fantasía', 'apermag', None, None),\n",
       " (6, 'Melodrama', 'apermag', '2018-09-01', '2018-09-27'),\n",
       " (7, 'Musical', 'OS_SGAD', None, None),\n",
       " (8, 'Romance', 'OS_SGAD', None, None),\n",
       " (9, 'Suspense', 'OS_SGAD', None, None),\n",
       " (10, 'Terror', 'OS_SGAD', None, None),\n",
       " (11, 'Bélico', 'OS_SGAD', None, None),\n",
       " (69, 'Documental', 'OS_SGAD', None, None)]"
      ]
     },
     "execution_count": 126,
     "metadata": {},
     "output_type": "execute_result"
    }
   ],
   "source": [
    "%%sql\n",
    "\n",
    "SELECT * FROM tb_genre"
   ]
  },
  {
   "cell_type": "markdown",
   "id": "4710c480",
   "metadata": {},
   "source": [
    "## Deleting a movie"
   ]
  },
  {
   "cell_type": "markdown",
   "id": "c1100a68",
   "metadata": {},
   "source": [
    "Let's going to delete the movie *La Gran Familia Española* from the database"
   ]
  },
  {
   "cell_type": "code",
   "execution_count": 128,
   "id": "5ad715b9",
   "metadata": {},
   "outputs": [
    {
     "name": "stdout",
     "output_type": "stream",
     "text": [
      " * sqlite://\n",
      "1 rows affected.\n"
     ]
    },
    {
     "data": {
      "text/plain": [
       "[]"
      ]
     },
     "execution_count": 128,
     "metadata": {},
     "output_type": "execute_result"
    }
   ],
   "source": [
    "%%sql\n",
    "\n",
    "DELETE FROM tb_movie WHERE movie_title='La Gran Familia Española';"
   ]
  },
  {
   "cell_type": "markdown",
   "id": "2dcf885f",
   "metadata": {},
   "source": [
    "Verification:"
   ]
  },
  {
   "cell_type": "code",
   "execution_count": 132,
   "id": "39a1374b",
   "metadata": {},
   "outputs": [
    {
     "name": "stdout",
     "output_type": "stream",
     "text": [
      " * sqlite://\n",
      "Done.\n"
     ]
    },
    {
     "data": {
      "text/html": [
       "<table>\n",
       "    <tr>\n",
       "        <th>COUNT(movie_title)</th>\n",
       "    </tr>\n",
       "    <tr>\n",
       "        <td>0</td>\n",
       "    </tr>\n",
       "</table>"
      ],
      "text/plain": [
       "[(0,)]"
      ]
     },
     "execution_count": 132,
     "metadata": {},
     "output_type": "execute_result"
    }
   ],
   "source": [
    "%%sql\n",
    "\n",
    "SELECT COUNT(movie_title) FROM tb_movie\n",
    "WHERE movie_title='La Gran Familia Española'"
   ]
  },
  {
   "cell_type": "markdown",
   "id": "ec1dff2b",
   "metadata": {},
   "source": [
    "## Modifying a movie genre"
   ]
  },
  {
   "cell_type": "markdown",
   "id": "ad7bf4c5",
   "metadata": {},
   "source": [
    "Finally, we are going to modify the genre of \"*Ocho apellidos catalanes*\" from *Romance* to *Comedy*"
   ]
  },
  {
   "cell_type": "code",
   "execution_count": 141,
   "id": "a41d41ed",
   "metadata": {},
   "outputs": [
    {
     "name": "stdout",
     "output_type": "stream",
     "text": [
      " * sqlite://\n",
      "1 rows affected.\n"
     ]
    },
    {
     "data": {
      "text/plain": [
       "[]"
      ]
     },
     "execution_count": 141,
     "metadata": {},
     "output_type": "execute_result"
    }
   ],
   "source": [
    "%%sql\n",
    "\n",
    "UPDATE tb_movie\n",
    "SET movie_genre_id = '3'\n",
    "WHERE movie_id = 9;"
   ]
  },
  {
   "cell_type": "markdown",
   "id": "f6f75b28",
   "metadata": {},
   "source": [
    "Let's verify it: "
   ]
  },
  {
   "cell_type": "code",
   "execution_count": 142,
   "id": "0d1022a8",
   "metadata": {},
   "outputs": [
    {
     "name": "stdout",
     "output_type": "stream",
     "text": [
      " * sqlite://\n",
      "Done.\n"
     ]
    },
    {
     "data": {
      "text/html": [
       "<table>\n",
       "    <tr>\n",
       "        <th>genre_id</th>\n",
       "        <th>genre_name</th>\n",
       "        <th>movie_title</th>\n",
       "    </tr>\n",
       "    <tr>\n",
       "        <td>1</td>\n",
       "        <td>Acción</td>\n",
       "        <td>Indiana Jones and the Temple of Doom</td>\n",
       "    </tr>\n",
       "    <tr>\n",
       "        <td>1</td>\n",
       "        <td>Acción</td>\n",
       "        <td>El dia de la bestia</td>\n",
       "    </tr>\n",
       "    <tr>\n",
       "        <td>2</td>\n",
       "        <td>Ciencia Ficción</td>\n",
       "        <td>Star Wars:Episode IV - A New Hope</td>\n",
       "    </tr>\n",
       "    <tr>\n",
       "        <td>2</td>\n",
       "        <td>Ciencia Ficción</td>\n",
       "        <td>Blade Runner</td>\n",
       "    </tr>\n",
       "    <tr>\n",
       "        <td>3</td>\n",
       "        <td>Comedia</td>\n",
       "        <td>The Terminal</td>\n",
       "    </tr>\n",
       "    <tr>\n",
       "        <td>3</td>\n",
       "        <td>Comedia</td>\n",
       "        <td>Ocho Apellidos Vascos</td>\n",
       "    </tr>\n",
       "    <tr>\n",
       "        <td>3</td>\n",
       "        <td>Comedia</td>\n",
       "        <td>Ocho Apellidos Catalanes</td>\n",
       "    </tr>\n",
       "    <tr>\n",
       "        <td>4</td>\n",
       "        <td>Drama</td>\n",
       "        <td>Braveheart</td>\n",
       "    </tr>\n",
       "    <tr>\n",
       "        <td>4</td>\n",
       "        <td>Drama</td>\n",
       "        <td>The Shawshank Redemption</td>\n",
       "    </tr>\n",
       "    <tr>\n",
       "        <td>5</td>\n",
       "        <td>Fantasía</td>\n",
       "        <td>ET The Extraterrestrial</td>\n",
       "    </tr>\n",
       "    <tr>\n",
       "        <td>8</td>\n",
       "        <td>Romance</td>\n",
       "        <td>El otro lado de la cama</td>\n",
       "    </tr>\n",
       "    <tr>\n",
       "        <td>9</td>\n",
       "        <td>Suspense</td>\n",
       "        <td>Psycho</td>\n",
       "    </tr>\n",
       "    <tr>\n",
       "        <td>9</td>\n",
       "        <td>Suspense</td>\n",
       "        <td>Las brujas de Zugarramurdi</td>\n",
       "    </tr>\n",
       "    <tr>\n",
       "        <td>10</td>\n",
       "        <td>Terror</td>\n",
       "        <td>Jaws</td>\n",
       "    </tr>\n",
       "    <tr>\n",
       "        <td>11</td>\n",
       "        <td>Bélico</td>\n",
       "        <td>Apocalypse Now</td>\n",
       "    </tr>\n",
       "</table>"
      ],
      "text/plain": [
       "[(1, 'Acción', 'Indiana Jones and the Temple of Doom'),\n",
       " (1, 'Acción', 'El dia de la bestia'),\n",
       " (2, 'Ciencia Ficción', 'Star Wars:Episode IV - A New Hope'),\n",
       " (2, 'Ciencia Ficción', 'Blade Runner'),\n",
       " (3, 'Comedia', 'The Terminal'),\n",
       " (3, 'Comedia', 'Ocho Apellidos Vascos'),\n",
       " (3, 'Comedia', 'Ocho Apellidos Catalanes'),\n",
       " (4, 'Drama', 'Braveheart'),\n",
       " (4, 'Drama', 'The Shawshank Redemption'),\n",
       " (5, 'Fantasía', 'ET The Extraterrestrial'),\n",
       " (8, 'Romance', 'El otro lado de la cama'),\n",
       " (9, 'Suspense', 'Psycho'),\n",
       " (9, 'Suspense', 'Las brujas de Zugarramurdi'),\n",
       " (10, 'Terror', 'Jaws'),\n",
       " (11, 'Bélico', 'Apocalypse Now')]"
      ]
     },
     "execution_count": 142,
     "metadata": {},
     "output_type": "execute_result"
    }
   ],
   "source": [
    "%%sql\n",
    "\n",
    "SELECT genre_id, genre_name, m.movie_title\n",
    "FROM tb_genre\n",
    "INNER JOIN tb_movie m\n",
    "ON m.movie_genre_id=genre_id\n",
    "ORDER BY genre_id"
   ]
  },
  {
   "cell_type": "markdown",
   "id": "1172ad52",
   "metadata": {},
   "source": [
    "The modification worked. Now, *Ocho Apellidos Catalanes* belongs to the *Comedy* genre."
   ]
  },
  {
   "cell_type": "markdown",
   "id": "e52b36b5",
   "metadata": {},
   "source": [
    "# Conclusions"
   ]
  },
  {
   "cell_type": "markdown",
   "id": "903f0002",
   "metadata": {},
   "source": [
    "To conclude, an exploratory analysis of the database has been done, as well as the analysis of the data applying different filters in order to figure out who was the eldest person alive or how many different movies are per genre. Finally, we have we have applied some modifications into the database."
   ]
  },
  {
   "cell_type": "code",
   "execution_count": null,
   "id": "6274d256",
   "metadata": {},
   "outputs": [],
   "source": []
  }
 ],
 "metadata": {
  "kernelspec": {
   "display_name": "Python 3 (ipykernel)",
   "language": "python",
   "name": "python3"
  },
  "language_info": {
   "codemirror_mode": {
    "name": "ipython",
    "version": 3
   },
   "file_extension": ".py",
   "mimetype": "text/x-python",
   "name": "python",
   "nbconvert_exporter": "python",
   "pygments_lexer": "ipython3",
   "version": "3.9.12"
  }
 },
 "nbformat": 4,
 "nbformat_minor": 5
}
